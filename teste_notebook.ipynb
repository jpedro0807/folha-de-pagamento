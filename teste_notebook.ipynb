{
 "cells": [
  {
   "cell_type": "code",
   "execution_count": 5,
   "metadata": {},
   "outputs": [
    {
     "ename": "ValueError",
     "evalue": "invalid literal for int() with base 10: ''",
     "output_type": "error",
     "traceback": [
      "\u001b[1;31m---------------------------------------------------------------------------\u001b[0m",
      "\u001b[1;31mValueError\u001b[0m                                Traceback (most recent call last)",
      "\u001b[1;32mc:\\Users\\24007268\\folha-de-pagamento\\teste_notebook.ipynb Cell 1\u001b[0m line \u001b[0;36m4\n\u001b[0;32m      <a href='vscode-notebook-cell:/c%3A/Users/24007268/folha-de-pagamento/teste_notebook.ipynb#W0sZmlsZQ%3D%3D?line=1'>2</a>\u001b[0m list_temp \u001b[39m=\u001b[39m []\n\u001b[0;32m      <a href='vscode-notebook-cell:/c%3A/Users/24007268/folha-de-pagamento/teste_notebook.ipynb#W0sZmlsZQ%3D%3D?line=2'>3</a>\u001b[0m nome \u001b[39m=\u001b[39m \u001b[39minput\u001b[39m(\u001b[39m'\u001b[39m\u001b[39mDigite o nome do Funcionario: \u001b[39m\u001b[39m'\u001b[39m)\n\u001b[1;32m----> <a href='vscode-notebook-cell:/c%3A/Users/24007268/folha-de-pagamento/teste_notebook.ipynb#W0sZmlsZQ%3D%3D?line=3'>4</a>\u001b[0m codigoFuncionario \u001b[39m=\u001b[39m \u001b[39mint\u001b[39;49m(\u001b[39minput\u001b[39;49m(\u001b[39m'\u001b[39;49m\u001b[39mDigite o codigo do Funcionário: \u001b[39;49m\u001b[39m'\u001b[39;49m))\n\u001b[0;32m      <a href='vscode-notebook-cell:/c%3A/Users/24007268/folha-de-pagamento/teste_notebook.ipynb#W0sZmlsZQ%3D%3D?line=4'>5</a>\u001b[0m volumeVendas \u001b[39m=\u001b[39m \u001b[39mint\u001b[39m(\u001b[39minput\u001b[39m(\u001b[39m'\u001b[39m\u001b[39mQual o valor do volume de vendas desse funcionário: \u001b[39m\u001b[39m'\u001b[39m))\n\u001b[0;32m      <a href='vscode-notebook-cell:/c%3A/Users/24007268/folha-de-pagamento/teste_notebook.ipynb#W0sZmlsZQ%3D%3D?line=5'>6</a>\u001b[0m numeroFaltas \u001b[39m=\u001b[39m \u001b[39mint\u001b[39m(\u001b[39minput\u001b[39m(\u001b[39m'\u001b[39m\u001b[39mDigite o número de faltas do funcionário\u001b[39m\u001b[39m'\u001b[39m))\n",
      "\u001b[1;31mValueError\u001b[0m: invalid literal for int() with base 10: ''"
     ]
    }
   ],
   "source": [
    "funcionario_dict = {}\n",
    "list_temp = []\n",
    "nome = input('Digite o nome do Funcionario: ')\n",
    "codigoFuncionario = int(input('Digite o codigo do Funcionário: '))\n",
    "volumeVendas = int(input('Qual o valor do volume de vendas desse funcionário: '))\n",
    "numeroFaltas = int(input('Digite o número de faltas do funcionário'))\n",
    "list_temp.append(nome)\n",
    "list_temp.append(codigoFuncionario)\n",
    "list_temp.append(volumeVendas)\n",
    "list_temp.append(numeroFaltas)\n",
    "\n"
   ]
  }
 ],
 "metadata": {
  "kernelspec": {
   "display_name": "Python 3",
   "language": "python",
   "name": "python3"
  },
  "language_info": {
   "codemirror_mode": {
    "name": "ipython",
    "version": 3
   },
   "file_extension": ".py",
   "mimetype": "text/x-python",
   "name": "python",
   "nbconvert_exporter": "python",
   "pygments_lexer": "ipython3",
   "version": "3.12.1"
  }
 },
 "nbformat": 4,
 "nbformat_minor": 2
}
